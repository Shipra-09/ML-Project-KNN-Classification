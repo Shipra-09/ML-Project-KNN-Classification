{
 "cells": [
  {
   "cell_type": "markdown",
   "id": "757f0f14",
   "metadata": {},
   "source": [
    "## Project 5: Iphone Purchase"
   ]
  },
  {
   "cell_type": "markdown",
   "id": "b3be7654",
   "metadata": {},
   "source": [
    "Objectice: To predict whether a customer will purchase an Iphone from their store given their gender, age and salary."
   ]
  },
  {
   "cell_type": "code",
   "execution_count": 12,
   "id": "34e9b3d4",
   "metadata": {},
   "outputs": [],
   "source": [
    "import pandas as pd\n",
    "import numpy as np\n",
    "import matplotlib.pyplot as plt\n",
    "import seaborn as sns"
   ]
  },
  {
   "cell_type": "code",
   "execution_count": 13,
   "id": "8ab608f6",
   "metadata": {},
   "outputs": [
    {
     "data": {
      "text/html": [
       "<div>\n",
       "<style scoped>\n",
       "    .dataframe tbody tr th:only-of-type {\n",
       "        vertical-align: middle;\n",
       "    }\n",
       "\n",
       "    .dataframe tbody tr th {\n",
       "        vertical-align: top;\n",
       "    }\n",
       "\n",
       "    .dataframe thead th {\n",
       "        text-align: right;\n",
       "    }\n",
       "</style>\n",
       "<table border=\"1\" class=\"dataframe\">\n",
       "  <thead>\n",
       "    <tr style=\"text-align: right;\">\n",
       "      <th></th>\n",
       "      <th>Gender</th>\n",
       "      <th>Age</th>\n",
       "      <th>Salary</th>\n",
       "      <th>Purchase Iphone</th>\n",
       "    </tr>\n",
       "  </thead>\n",
       "  <tbody>\n",
       "    <tr>\n",
       "      <th>0</th>\n",
       "      <td>Male</td>\n",
       "      <td>19</td>\n",
       "      <td>19000</td>\n",
       "      <td>0</td>\n",
       "    </tr>\n",
       "    <tr>\n",
       "      <th>1</th>\n",
       "      <td>Male</td>\n",
       "      <td>35</td>\n",
       "      <td>20000</td>\n",
       "      <td>0</td>\n",
       "    </tr>\n",
       "    <tr>\n",
       "      <th>2</th>\n",
       "      <td>Female</td>\n",
       "      <td>26</td>\n",
       "      <td>43000</td>\n",
       "      <td>0</td>\n",
       "    </tr>\n",
       "    <tr>\n",
       "      <th>3</th>\n",
       "      <td>Female</td>\n",
       "      <td>27</td>\n",
       "      <td>57000</td>\n",
       "      <td>0</td>\n",
       "    </tr>\n",
       "    <tr>\n",
       "      <th>4</th>\n",
       "      <td>Male</td>\n",
       "      <td>19</td>\n",
       "      <td>76000</td>\n",
       "      <td>0</td>\n",
       "    </tr>\n",
       "  </tbody>\n",
       "</table>\n",
       "</div>"
      ],
      "text/plain": [
       "   Gender  Age  Salary  Purchase Iphone\n",
       "0    Male   19   19000                0\n",
       "1    Male   35   20000                0\n",
       "2  Female   26   43000                0\n",
       "3  Female   27   57000                0\n",
       "4    Male   19   76000                0"
      ]
     },
     "execution_count": 13,
     "metadata": {},
     "output_type": "execute_result"
    }
   ],
   "source": [
    "data=pd.read_csv('D:/Data Science/TOPMENTOR-DS/Machine Learning/KNN Assignment-Project 5 and 6/iphone_purchase_records.csv')\n",
    "data.head()"
   ]
  },
  {
   "cell_type": "code",
   "execution_count": 14,
   "id": "7447b29a",
   "metadata": {},
   "outputs": [
    {
     "data": {
      "text/html": [
       "<div>\n",
       "<style scoped>\n",
       "    .dataframe tbody tr th:only-of-type {\n",
       "        vertical-align: middle;\n",
       "    }\n",
       "\n",
       "    .dataframe tbody tr th {\n",
       "        vertical-align: top;\n",
       "    }\n",
       "\n",
       "    .dataframe thead th {\n",
       "        text-align: right;\n",
       "    }\n",
       "</style>\n",
       "<table border=\"1\" class=\"dataframe\">\n",
       "  <thead>\n",
       "    <tr style=\"text-align: right;\">\n",
       "      <th></th>\n",
       "      <th>Gender</th>\n",
       "      <th>Age</th>\n",
       "      <th>Salary</th>\n",
       "      <th>Purchase Iphone</th>\n",
       "    </tr>\n",
       "  </thead>\n",
       "  <tbody>\n",
       "    <tr>\n",
       "      <th>0</th>\n",
       "      <td>Male</td>\n",
       "      <td>19</td>\n",
       "      <td>19000</td>\n",
       "      <td>0</td>\n",
       "    </tr>\n",
       "    <tr>\n",
       "      <th>1</th>\n",
       "      <td>Male</td>\n",
       "      <td>35</td>\n",
       "      <td>20000</td>\n",
       "      <td>0</td>\n",
       "    </tr>\n",
       "    <tr>\n",
       "      <th>2</th>\n",
       "      <td>Female</td>\n",
       "      <td>26</td>\n",
       "      <td>43000</td>\n",
       "      <td>0</td>\n",
       "    </tr>\n",
       "    <tr>\n",
       "      <th>3</th>\n",
       "      <td>Female</td>\n",
       "      <td>27</td>\n",
       "      <td>57000</td>\n",
       "      <td>0</td>\n",
       "    </tr>\n",
       "    <tr>\n",
       "      <th>4</th>\n",
       "      <td>Male</td>\n",
       "      <td>19</td>\n",
       "      <td>76000</td>\n",
       "      <td>0</td>\n",
       "    </tr>\n",
       "  </tbody>\n",
       "</table>\n",
       "</div>"
      ],
      "text/plain": [
       "   Gender  Age  Salary  Purchase Iphone\n",
       "0    Male   19   19000                0\n",
       "1    Male   35   20000                0\n",
       "2  Female   26   43000                0\n",
       "3  Female   27   57000                0\n",
       "4    Male   19   76000                0"
      ]
     },
     "execution_count": 14,
     "metadata": {},
     "output_type": "execute_result"
    }
   ],
   "source": [
    "# make a copy of data'\n",
    "df=data.copy()\n",
    "df.head()"
   ]
  },
  {
   "cell_type": "code",
   "execution_count": 15,
   "id": "f26b17b1",
   "metadata": {},
   "outputs": [
    {
     "data": {
      "text/plain": [
       "<bound method DataFrame.info of      Gender  Age  Salary  Purchase Iphone\n",
       "0      Male   19   19000                0\n",
       "1      Male   35   20000                0\n",
       "2    Female   26   43000                0\n",
       "3    Female   27   57000                0\n",
       "4      Male   19   76000                0\n",
       "..      ...  ...     ...              ...\n",
       "395  Female   46   41000                1\n",
       "396    Male   51   23000                1\n",
       "397  Female   50   20000                1\n",
       "398    Male   36   33000                0\n",
       "399  Female   49   36000                1\n",
       "\n",
       "[400 rows x 4 columns]>"
      ]
     },
     "execution_count": 15,
     "metadata": {},
     "output_type": "execute_result"
    }
   ],
   "source": [
    "df.info"
   ]
  },
  {
   "cell_type": "code",
   "execution_count": 16,
   "id": "de519ef5",
   "metadata": {},
   "outputs": [
    {
     "data": {
      "text/plain": [
       "Gender             0\n",
       "Age                0\n",
       "Salary             0\n",
       "Purchase Iphone    0\n",
       "dtype: int64"
      ]
     },
     "execution_count": 16,
     "metadata": {},
     "output_type": "execute_result"
    }
   ],
   "source": [
    "df.isnull().sum()"
   ]
  },
  {
   "cell_type": "markdown",
   "id": "3b0dee22",
   "metadata": {},
   "source": [
    "There are no null values in the data"
   ]
  },
  {
   "cell_type": "code",
   "execution_count": 19,
   "id": "eb1fe724",
   "metadata": {},
   "outputs": [
    {
     "data": {
      "text/html": [
       "<div>\n",
       "<style scoped>\n",
       "    .dataframe tbody tr th:only-of-type {\n",
       "        vertical-align: middle;\n",
       "    }\n",
       "\n",
       "    .dataframe tbody tr th {\n",
       "        vertical-align: top;\n",
       "    }\n",
       "\n",
       "    .dataframe thead th {\n",
       "        text-align: right;\n",
       "    }\n",
       "</style>\n",
       "<table border=\"1\" class=\"dataframe\">\n",
       "  <thead>\n",
       "    <tr style=\"text-align: right;\">\n",
       "      <th></th>\n",
       "      <th>Age</th>\n",
       "      <th>Salary</th>\n",
       "      <th>Purchase Iphone</th>\n",
       "    </tr>\n",
       "  </thead>\n",
       "  <tbody>\n",
       "    <tr>\n",
       "      <th>count</th>\n",
       "      <td>400.000000</td>\n",
       "      <td>400.000000</td>\n",
       "      <td>400.000000</td>\n",
       "    </tr>\n",
       "    <tr>\n",
       "      <th>mean</th>\n",
       "      <td>37.655000</td>\n",
       "      <td>69742.500000</td>\n",
       "      <td>0.357500</td>\n",
       "    </tr>\n",
       "    <tr>\n",
       "      <th>std</th>\n",
       "      <td>10.482877</td>\n",
       "      <td>34096.960282</td>\n",
       "      <td>0.479864</td>\n",
       "    </tr>\n",
       "    <tr>\n",
       "      <th>min</th>\n",
       "      <td>18.000000</td>\n",
       "      <td>15000.000000</td>\n",
       "      <td>0.000000</td>\n",
       "    </tr>\n",
       "    <tr>\n",
       "      <th>25%</th>\n",
       "      <td>29.750000</td>\n",
       "      <td>43000.000000</td>\n",
       "      <td>0.000000</td>\n",
       "    </tr>\n",
       "    <tr>\n",
       "      <th>50%</th>\n",
       "      <td>37.000000</td>\n",
       "      <td>70000.000000</td>\n",
       "      <td>0.000000</td>\n",
       "    </tr>\n",
       "    <tr>\n",
       "      <th>75%</th>\n",
       "      <td>46.000000</td>\n",
       "      <td>88000.000000</td>\n",
       "      <td>1.000000</td>\n",
       "    </tr>\n",
       "    <tr>\n",
       "      <th>max</th>\n",
       "      <td>60.000000</td>\n",
       "      <td>150000.000000</td>\n",
       "      <td>1.000000</td>\n",
       "    </tr>\n",
       "  </tbody>\n",
       "</table>\n",
       "</div>"
      ],
      "text/plain": [
       "              Age         Salary  Purchase Iphone\n",
       "count  400.000000     400.000000       400.000000\n",
       "mean    37.655000   69742.500000         0.357500\n",
       "std     10.482877   34096.960282         0.479864\n",
       "min     18.000000   15000.000000         0.000000\n",
       "25%     29.750000   43000.000000         0.000000\n",
       "50%     37.000000   70000.000000         0.000000\n",
       "75%     46.000000   88000.000000         1.000000\n",
       "max     60.000000  150000.000000         1.000000"
      ]
     },
     "execution_count": 19,
     "metadata": {},
     "output_type": "execute_result"
    }
   ],
   "source": [
    "df.describe()"
   ]
  },
  {
   "cell_type": "markdown",
   "id": "721a8b62",
   "metadata": {},
   "source": [
    "1. Minimum age is 18 years while maximum age is 60 years\n",
    "2. Minimum salary is 15k while maximum salary is 150k"
   ]
  },
  {
   "cell_type": "code",
   "execution_count": 26,
   "id": "56629c70",
   "metadata": {},
   "outputs": [
    {
     "data": {
      "text/plain": [
       "Female    204\n",
       "Male      196\n",
       "Name: Gender, dtype: int64"
      ]
     },
     "execution_count": 26,
     "metadata": {},
     "output_type": "execute_result"
    }
   ],
   "source": [
    "df['Gender'].value_counts()"
   ]
  },
  {
   "cell_type": "code",
   "execution_count": null,
   "id": "9c591309",
   "metadata": {},
   "outputs": [],
   "source": [
    "So, the number of females are higher than the males."
   ]
  },
  {
   "cell_type": "code",
   "execution_count": 40,
   "id": "438834e1",
   "metadata": {},
   "outputs": [
    {
     "data": {
      "text/plain": [
       "77"
      ]
     },
     "execution_count": 40,
     "metadata": {},
     "output_type": "execute_result"
    }
   ],
   "source": [
    "df[(df['Gender']=='Female') & (df['Purchase Iphone']==1)]['Gender'].count()"
   ]
  },
  {
   "cell_type": "markdown",
   "id": "0113d5d4",
   "metadata": {},
   "source": [
    "Out of 204, 77 females have purchased Iphones"
   ]
  },
  {
   "cell_type": "code",
   "execution_count": 42,
   "id": "325cf0df",
   "metadata": {},
   "outputs": [
    {
     "data": {
      "text/plain": [
       "66"
      ]
     },
     "execution_count": 42,
     "metadata": {},
     "output_type": "execute_result"
    }
   ],
   "source": [
    "df[(df['Gender']=='Male') & (df['Purchase Iphone']==1)]['Gender'].count()"
   ]
  },
  {
   "cell_type": "markdown",
   "id": "89a11270",
   "metadata": {},
   "source": [
    "Out of 196, 66 males have purchased Iphones"
   ]
  },
  {
   "cell_type": "code",
   "execution_count": null,
   "id": "2cb0214f",
   "metadata": {},
   "outputs": [],
   "source": []
  },
  {
   "cell_type": "code",
   "execution_count": null,
   "id": "153f3256",
   "metadata": {},
   "outputs": [],
   "source": []
  },
  {
   "cell_type": "code",
   "execution_count": null,
   "id": "b993163f",
   "metadata": {},
   "outputs": [],
   "source": []
  },
  {
   "cell_type": "markdown",
   "id": "9c671179",
   "metadata": {},
   "source": [
    "### Exploratory Data Analysis (EDA)"
   ]
  },
  {
   "cell_type": "code",
   "execution_count": 17,
   "id": "19a1235f",
   "metadata": {},
   "outputs": [
    {
     "data": {
      "text/plain": [
       "Index(['Gender', 'Age', 'Salary', 'Purchase Iphone'], dtype='object')"
      ]
     },
     "execution_count": 17,
     "metadata": {},
     "output_type": "execute_result"
    }
   ],
   "source": [
    "df.columns"
   ]
  },
  {
   "cell_type": "code",
   "execution_count": 117,
   "id": "5abd2de3",
   "metadata": {},
   "outputs": [
    {
     "data": {
      "text/plain": [
       "Text(0.5, 1.0, '# of genders')"
      ]
     },
     "execution_count": 117,
     "metadata": {},
     "output_type": "execute_result"
    },
    {
     "data": {
      "image/png": "[encoded data removed]",
      "text/plain": [
       "<Figure size 504x360 with 1 Axes>"
      ]
     },
     "metadata": {
      "needs_background": "light"
     },
     "output_type": "display_data"
    }
   ],
   "source": [
    "# Number of Males and Females in the data\n",
    "plt.figure(figsize=(7,5))\n",
    "sns.countplot(x='Gender',data=df) \n",
    "plt.savefig('total gender.jpg',bbox_inches='tight',dpi=200)\n",
    "plt.title('# of genders')"
   ]
  },
  {
   "cell_type": "code",
   "execution_count": null,
   "id": "f2d9d1ac",
   "metadata": {},
   "outputs": [],
   "source": []
  },
  {
   "cell_type": "code",
   "execution_count": 153,
   "id": "7e45f25b",
   "metadata": {},
   "outputs": [
    {
     "data": {
      "image/png": "[encoded data removed]",
      "text/plain": [
       "<Figure size 648x576 with 1 Axes>"
      ]
     },
     "metadata": {
      "needs_background": "light"
     },
     "output_type": "display_data"
    }
   ],
   "source": [
    "# gender and salary wise Iphone purchase\n",
    "plt.figure(figsize=(9,8))\n",
    "sns.barplot(data=df,x='Salary',y='Gender',estimator=sum,hue='Purchase Iphone')\n",
    "plt.savefig('gender-salary wise Iphone.jpg',bbox_inches='tight',dpi=200)\n",
    "#plt.title('# of genders')"
   ]
  },
  {
   "cell_type": "code",
   "execution_count": 154,
   "id": "d87dc81f",
   "metadata": {},
   "outputs": [
    {
     "data": {
      "image/png": "[encoded data removed]",
      "text/plain": [
       "<Figure size 648x576 with 1 Axes>"
      ]
     },
     "metadata": {
      "needs_background": "light"
     },
     "output_type": "display_data"
    }
   ],
   "source": [
    "# gender and Age wise Iphone purchase\n",
    "plt.figure(figsize=(9,8))\n",
    "sns.barplot(data=df,x='Age',y='Gender',estimator=sum,hue='Purchase Iphone')\n",
    "plt.savefig('gender-age wise Iphone.jpg',bbox_inches='tight',dpi=200)\n",
    "#plt.title('# of genders')"
   ]
  },
  {
   "cell_type": "code",
   "execution_count": 129,
   "id": "7b916be3",
   "metadata": {},
   "outputs": [
    {
     "data": {
      "text/plain": [
       "array([204, 196], dtype=int64)"
      ]
     },
     "execution_count": 129,
     "metadata": {},
     "output_type": "execute_result"
    }
   ],
   "source": [
    "gender_values=df.Gender.value_counts().values\n",
    "gender_values"
   ]
  },
  {
   "cell_type": "code",
   "execution_count": 131,
   "id": "f4b4bb7b",
   "metadata": {},
   "outputs": [
    {
     "data": {
      "text/plain": [
       "Index(['Female', 'Male'], dtype='object')"
      ]
     },
     "execution_count": 131,
     "metadata": {},
     "output_type": "execute_result"
    }
   ],
   "source": [
    "gender_names=df.Gender.value_counts().index\n",
    "gender_names"
   ]
  },
  {
   "cell_type": "code",
   "execution_count": 134,
   "id": "aad3f598",
   "metadata": {},
   "outputs": [
    {
     "name": "stderr",
     "output_type": "stream",
     "text": [
      "C:\\Users\\Shipra Choudhary\\AppData\\Local\\Temp\\ipykernel_8852\\976801059.py:3: MatplotlibDeprecationWarning: savefig() got unexpected keyword argument \"bb_box\" which is no longer supported as of 3.3 and will become an error in 3.6\n",
      "  plt.savefig('Pie-Gender.jpg',bb_box=\"tight\",dpi=200)\n"
     ]
    },
    {
     "data": {
      "image/png": "[encoded data removed]",
      "text/plain": [
       "<Figure size 432x288 with 1 Axes>"
      ]
     },
     "metadata": {},
     "output_type": "display_data"
    }
   ],
   "source": [
    "# Pie chart for male and female percentage\n",
    "plt.pie(gender_values,labels=gender_names,autopct=\"%1.2f%%\")\n",
    "plt.savefig('Pie-Gender.jpg',bb_box=\"tight\",dpi=200)"
   ]
  },
  {
   "cell_type": "code",
   "execution_count": 157,
   "id": "eba7cf03",
   "metadata": {},
   "outputs": [
    {
     "data": {
      "image/png": "[encoded data removed]",
      "text/plain": [
       "<Figure size 504x360 with 1 Axes>"
      ]
     },
     "metadata": {
      "needs_background": "light"
     },
     "output_type": "display_data"
    },
    {
     "data": {
      "text/plain": [
       "<Figure size 432x288 with 0 Axes>"
      ]
     },
     "metadata": {},
     "output_type": "display_data"
    }
   ],
   "source": [
    "# Age wise salary of male and females\n",
    "plt.figure(figsize=(7,5))\n",
    "sns.lineplot(x='Age', y='Salary', hue='Gender', data=df)\n",
    "plt.show()\n",
    "plt.savefig('age wise salary.jpg',bbox_inches='tight',dpi=200)"
   ]
  },
  {
   "cell_type": "code",
   "execution_count": null,
   "id": "cd22dafb",
   "metadata": {},
   "outputs": [],
   "source": []
  },
  {
   "cell_type": "code",
   "execution_count": null,
   "id": "35a061dc",
   "metadata": {},
   "outputs": [],
   "source": []
  },
  {
   "cell_type": "code",
   "execution_count": null,
   "id": "805b7749",
   "metadata": {},
   "outputs": [],
   "source": []
  },
  {
   "cell_type": "code",
   "execution_count": 46,
   "id": "ec229048",
   "metadata": {},
   "outputs": [
    {
     "data": {
      "text/html": [
       "<div>\n",
       "<style scoped>\n",
       "    .dataframe tbody tr th:only-of-type {\n",
       "        vertical-align: middle;\n",
       "    }\n",
       "\n",
       "    .dataframe tbody tr th {\n",
       "        vertical-align: top;\n",
       "    }\n",
       "\n",
       "    .dataframe thead th {\n",
       "        text-align: right;\n",
       "    }\n",
       "</style>\n",
       "<table border=\"1\" class=\"dataframe\">\n",
       "  <thead>\n",
       "    <tr style=\"text-align: right;\">\n",
       "      <th></th>\n",
       "      <th>Age</th>\n",
       "      <th>Salary</th>\n",
       "      <th>Purchase Iphone</th>\n",
       "    </tr>\n",
       "  </thead>\n",
       "  <tbody>\n",
       "    <tr>\n",
       "      <th>Age</th>\n",
       "      <td>1.000000</td>\n",
       "      <td>0.155238</td>\n",
       "      <td>0.622454</td>\n",
       "    </tr>\n",
       "    <tr>\n",
       "      <th>Salary</th>\n",
       "      <td>0.155238</td>\n",
       "      <td>1.000000</td>\n",
       "      <td>0.362083</td>\n",
       "    </tr>\n",
       "    <tr>\n",
       "      <th>Purchase Iphone</th>\n",
       "      <td>0.622454</td>\n",
       "      <td>0.362083</td>\n",
       "      <td>1.000000</td>\n",
       "    </tr>\n",
       "  </tbody>\n",
       "</table>\n",
       "</div>"
      ],
      "text/plain": [
       "                      Age    Salary  Purchase Iphone\n",
       "Age              1.000000  0.155238         0.622454\n",
       "Salary           0.155238  1.000000         0.362083\n",
       "Purchase Iphone  0.622454  0.362083         1.000000"
      ]
     },
     "execution_count": 46,
     "metadata": {},
     "output_type": "execute_result"
    },
    {
     "data": {
      "image/png": "[encoded data removed]",
      "text/plain": [
       "<Figure size 540x540 with 12 Axes>"
      ]
     },
     "metadata": {
      "needs_background": "light"
     },
     "output_type": "display_data"
    }
   ],
   "source": [
    "# correlation between the columns\n",
    "sns.pairplot(df)\n",
    "df.corr()"
   ]
  },
  {
   "cell_type": "markdown",
   "id": "3503f22f",
   "metadata": {},
   "source": [
    "1. Age is more correlated with the purchase of Iphone.\n",
    "2. Salary is also correlated with the purchase of Iphone."
   ]
  },
  {
   "cell_type": "code",
   "execution_count": 49,
   "id": "c8820139",
   "metadata": {},
   "outputs": [
    {
     "data": {
      "text/plain": [
       "Text(0.5, 1.0, 'Age box plot')"
      ]
     },
     "execution_count": 49,
     "metadata": {},
     "output_type": "execute_result"
    },
    {
     "data": {
      "image/png": "[encoded data removed]",
      "text/plain": [
       "<Figure size 432x288 with 1 Axes>"
      ]
     },
     "metadata": {
      "needs_background": "light"
     },
     "output_type": "display_data"
    }
   ],
   "source": [
    "# Box plot to check outlier in Age data\n",
    "sns.boxplot(x=df['Age'])\n",
    "plt.savefig('Age box plot.jpg',bbox_inches='tight',dpi=200)\n",
    "plt.title('Age box plot')"
   ]
  },
  {
   "cell_type": "markdown",
   "id": "8623cd51",
   "metadata": {},
   "source": [
    "No outliers are present in Age data"
   ]
  },
  {
   "cell_type": "code",
   "execution_count": 50,
   "id": "a142c180",
   "metadata": {},
   "outputs": [
    {
     "data": {
      "text/plain": [
       "Text(0.5, 1.0, 'Salary box plot')"
      ]
     },
     "execution_count": 50,
     "metadata": {},
     "output_type": "execute_result"
    },
    {
     "data": {
      "image/png": "[encoded data removed]",
      "text/plain": [
       "<Figure size 432x288 with 1 Axes>"
      ]
     },
     "metadata": {
      "needs_background": "light"
     },
     "output_type": "display_data"
    }
   ],
   "source": [
    "# Box plot to check outlier in Salary data\n",
    "sns.boxplot(x=df['Salary'])\n",
    "plt.savefig('Salary box plot.jpg',bbox_inches='tight',dpi=200)\n",
    "plt.title('Salary box plot')"
   ]
  },
  {
   "cell_type": "markdown",
   "id": "ac4c5673",
   "metadata": {},
   "source": [
    "No outliers are present in Salary data"
   ]
  },
  {
   "cell_type": "code",
   "execution_count": 59,
   "id": "a6ff7b74",
   "metadata": {},
   "outputs": [
    {
     "name": "stdout",
     "output_type": "stream",
     "text": [
      "The skewness of salary data is : 0.5\n"
     ]
    },
    {
     "data": {
      "image/png": "[encoded data removed]",
      "text/plain": [
       "<Figure size 360x360 with 1 Axes>"
      ]
     },
     "metadata": {
      "needs_background": "light"
     },
     "output_type": "display_data"
    }
   ],
   "source": [
    "# Distribution plot to check skewness in Salary data\n",
    "sns.displot(x=df['Salary'])\n",
    "plt.savefig('Salary distribution plot.jpg',bbox_inches='tight',dpi=200)\n",
    "plt.title('Salary distribtion plot')\n",
    "print('The skewness of salary data is :', round(df['Salary'].skew(),2))"
   ]
  },
  {
   "cell_type": "code",
   "execution_count": 58,
   "id": "e4cf95bc",
   "metadata": {},
   "outputs": [
    {
     "name": "stdout",
     "output_type": "stream",
     "text": [
      "The skewness is : 0.23\n"
     ]
    },
    {
     "data": {
      "image/png": "[encoded data removed]",
      "text/plain": [
       "<Figure size 360x360 with 1 Axes>"
      ]
     },
     "metadata": {
      "needs_background": "light"
     },
     "output_type": "display_data"
    }
   ],
   "source": [
    "# Distribution plot to check skewness in Age data\n",
    "sns.displot(x=df['Age'])\n",
    "plt.savefig('Age distribution plot.jpg',bbox_inches='tight',dpi=200)\n",
    "plt.title('Age distribtion plot')\n",
    "print('The skewness is :', round(df['Age'].skew(),2))\n"
   ]
  },
  {
   "cell_type": "markdown",
   "id": "ac04949d",
   "metadata": {},
   "source": [
    "both the salary and Age data are normally distributed with skewness around 0.50 and 0.23, repectively"
   ]
  },
  {
   "cell_type": "markdown",
   "id": "61a834c2",
   "metadata": {},
   "source": [
    "Encoding : \n",
    "1. The data has column as gender which is a categorical independent column. \n",
    "2. This categorical feature should be converted to some integral values via one hot encoding method."
   ]
  },
  {
   "cell_type": "code",
   "execution_count": 60,
   "id": "316e9c61",
   "metadata": {},
   "outputs": [
    {
     "data": {
      "text/html": [
       "<div>\n",
       "<style scoped>\n",
       "    .dataframe tbody tr th:only-of-type {\n",
       "        vertical-align: middle;\n",
       "    }\n",
       "\n",
       "    .dataframe tbody tr th {\n",
       "        vertical-align: top;\n",
       "    }\n",
       "\n",
       "    .dataframe thead th {\n",
       "        text-align: right;\n",
       "    }\n",
       "</style>\n",
       "<table border=\"1\" class=\"dataframe\">\n",
       "  <thead>\n",
       "    <tr style=\"text-align: right;\">\n",
       "      <th></th>\n",
       "      <th>Female</th>\n",
       "      <th>Male</th>\n",
       "    </tr>\n",
       "  </thead>\n",
       "  <tbody>\n",
       "    <tr>\n",
       "      <th>0</th>\n",
       "      <td>0</td>\n",
       "      <td>1</td>\n",
       "    </tr>\n",
       "    <tr>\n",
       "      <th>1</th>\n",
       "      <td>0</td>\n",
       "      <td>1</td>\n",
       "    </tr>\n",
       "  </tbody>\n",
       "</table>\n",
       "</div>"
      ],
      "text/plain": [
       "   Female  Male\n",
       "0       0     1\n",
       "1       0     1"
      ]
     },
     "execution_count": 60,
     "metadata": {},
     "output_type": "execute_result"
    }
   ],
   "source": [
    "# One hot encoding\n",
    "df_gender=pd.get_dummies(df['Gender']).astype('int')\n",
    "df_gender.head(2)"
   ]
  },
  {
   "cell_type": "code",
   "execution_count": 61,
   "id": "fe6e8140",
   "metadata": {},
   "outputs": [
    {
     "data": {
      "text/html": [
       "<div>\n",
       "<style scoped>\n",
       "    .dataframe tbody tr th:only-of-type {\n",
       "        vertical-align: middle;\n",
       "    }\n",
       "\n",
       "    .dataframe tbody tr th {\n",
       "        vertical-align: top;\n",
       "    }\n",
       "\n",
       "    .dataframe thead th {\n",
       "        text-align: right;\n",
       "    }\n",
       "</style>\n",
       "<table border=\"1\" class=\"dataframe\">\n",
       "  <thead>\n",
       "    <tr style=\"text-align: right;\">\n",
       "      <th></th>\n",
       "      <th>Gender</th>\n",
       "      <th>Age</th>\n",
       "      <th>Salary</th>\n",
       "      <th>Purchase Iphone</th>\n",
       "      <th>Female</th>\n",
       "      <th>Male</th>\n",
       "    </tr>\n",
       "  </thead>\n",
       "  <tbody>\n",
       "    <tr>\n",
       "      <th>0</th>\n",
       "      <td>Male</td>\n",
       "      <td>19</td>\n",
       "      <td>19000</td>\n",
       "      <td>0</td>\n",
       "      <td>0</td>\n",
       "      <td>1</td>\n",
       "    </tr>\n",
       "    <tr>\n",
       "      <th>1</th>\n",
       "      <td>Male</td>\n",
       "      <td>35</td>\n",
       "      <td>20000</td>\n",
       "      <td>0</td>\n",
       "      <td>0</td>\n",
       "      <td>1</td>\n",
       "    </tr>\n",
       "  </tbody>\n",
       "</table>\n",
       "</div>"
      ],
      "text/plain": [
       "  Gender  Age  Salary  Purchase Iphone  Female  Male\n",
       "0   Male   19   19000                0       0     1\n",
       "1   Male   35   20000                0       0     1"
      ]
     },
     "execution_count": 61,
     "metadata": {},
     "output_type": "execute_result"
    }
   ],
   "source": [
    "# lets concatenate the two data sets\n",
    "df1=pd.concat([df,df_gender],axis=1)\n",
    "df1.head(2)"
   ]
  },
  {
   "cell_type": "markdown",
   "id": "e9edd9f8",
   "metadata": {},
   "source": [
    "### Model: KNN Regression"
   ]
  },
  {
   "cell_type": "markdown",
   "id": "6f1e6476",
   "metadata": {},
   "source": [
    "---------Sampling of data-------------"
   ]
  },
  {
   "cell_type": "code",
   "execution_count": 62,
   "id": "b4bb52e3",
   "metadata": {},
   "outputs": [
    {
     "data": {
      "text/plain": [
       "Index(['Gender', 'Age', 'Salary', 'Purchase Iphone', 'Female', 'Male'], dtype='object')"
      ]
     },
     "execution_count": 62,
     "metadata": {},
     "output_type": "execute_result"
    }
   ],
   "source": [
    "df1.columns"
   ]
  },
  {
   "cell_type": "code",
   "execution_count": 64,
   "id": "d6620882",
   "metadata": {},
   "outputs": [],
   "source": [
    "x=df1[['Age', 'Salary', 'Female', 'Male']]\n",
    "y=df1['Purchase Iphone']"
   ]
  },
  {
   "cell_type": "code",
   "execution_count": 65,
   "id": "4f7e9767",
   "metadata": {},
   "outputs": [],
   "source": [
    "# standardization of data\n",
    "from sklearn.preprocessing import StandardScaler\n",
    "sc=StandardScaler()"
   ]
  },
  {
   "cell_type": "code",
   "execution_count": 66,
   "id": "f3777420",
   "metadata": {},
   "outputs": [],
   "source": [
    "x_sc=sc.fit_transform(x)"
   ]
  },
  {
   "cell_type": "code",
   "execution_count": 67,
   "id": "5f8672b0",
   "metadata": {},
   "outputs": [],
   "source": [
    "from sklearn.model_selection import train_test_split"
   ]
  },
  {
   "cell_type": "code",
   "execution_count": 68,
   "id": "c0acead1",
   "metadata": {},
   "outputs": [],
   "source": [
    "x_train,x_test,y_train,y_test=train_test_split(x_sc,y,test_size=0.2, random_state=1)"
   ]
  },
  {
   "cell_type": "code",
   "execution_count": 69,
   "id": "ec64ac1f",
   "metadata": {},
   "outputs": [
    {
     "data": {
      "text/plain": [
       "((320, 4), (80, 4))"
      ]
     },
     "execution_count": 69,
     "metadata": {},
     "output_type": "execute_result"
    }
   ],
   "source": [
    "x_train.shape,x_test.shape"
   ]
  },
  {
   "cell_type": "markdown",
   "id": "db4f3f8c",
   "metadata": {},
   "source": [
    "----------------Model Building--------------"
   ]
  },
  {
   "cell_type": "code",
   "execution_count": 70,
   "id": "d4c5c939",
   "metadata": {},
   "outputs": [],
   "source": [
    "from sklearn.neighbors import KNeighborsClassifier"
   ]
  },
  {
   "cell_type": "code",
   "execution_count": 72,
   "id": "4d1df0a2",
   "metadata": {},
   "outputs": [],
   "source": [
    "clf=KNeighborsClassifier(n_neighbors=3)"
   ]
  },
  {
   "cell_type": "code",
   "execution_count": 75,
   "id": "7a394d32",
   "metadata": {},
   "outputs": [],
   "source": [
    "clf_fit=clf.fit(x_train,y_train)"
   ]
  },
  {
   "cell_type": "markdown",
   "id": "c82dcdce",
   "metadata": {},
   "source": [
    "-----------Model Prediction---------------"
   ]
  },
  {
   "cell_type": "code",
   "execution_count": 76,
   "id": "c26956d0",
   "metadata": {},
   "outputs": [],
   "source": [
    "pred=clf_fit.predict(x_test)"
   ]
  },
  {
   "cell_type": "code",
   "execution_count": 77,
   "id": "b6b4af53",
   "metadata": {},
   "outputs": [
    {
     "data": {
      "text/plain": [
       "array([0, 0, 1, 1, 1, 0, 0, 1, 0, 1, 0, 0, 0, 1, 1, 1, 1, 0, 0, 1, 0, 1,\n",
       "       1, 1, 1, 0, 1, 1, 1, 1, 0, 0, 0, 1, 0, 0, 0, 0, 1, 0, 1, 1, 1, 0,\n",
       "       1, 0, 1, 1, 0, 1, 0, 0, 0, 1, 0, 0, 1, 0, 1, 1, 0, 0, 1, 0, 1, 1,\n",
       "       0, 0, 1, 0, 1, 0, 1, 0, 0, 1, 0, 0, 0, 0], dtype=int64)"
      ]
     },
     "execution_count": 77,
     "metadata": {},
     "output_type": "execute_result"
    }
   ],
   "source": [
    "pred"
   ]
  },
  {
   "cell_type": "code",
   "execution_count": 79,
   "id": "b708c569",
   "metadata": {},
   "outputs": [
    {
     "data": {
      "text/html": [
       "<div>\n",
       "<style scoped>\n",
       "    .dataframe tbody tr th:only-of-type {\n",
       "        vertical-align: middle;\n",
       "    }\n",
       "\n",
       "    .dataframe tbody tr th {\n",
       "        vertical-align: top;\n",
       "    }\n",
       "\n",
       "    .dataframe thead th {\n",
       "        text-align: right;\n",
       "    }\n",
       "</style>\n",
       "<table border=\"1\" class=\"dataframe\">\n",
       "  <thead>\n",
       "    <tr style=\"text-align: right;\">\n",
       "      <th></th>\n",
       "      <th>predicted</th>\n",
       "      <th>Actual</th>\n",
       "    </tr>\n",
       "  </thead>\n",
       "  <tbody>\n",
       "    <tr>\n",
       "      <th>0</th>\n",
       "      <td>0</td>\n",
       "      <td>0</td>\n",
       "    </tr>\n",
       "    <tr>\n",
       "      <th>1</th>\n",
       "      <td>0</td>\n",
       "      <td>0</td>\n",
       "    </tr>\n",
       "    <tr>\n",
       "      <th>2</th>\n",
       "      <td>1</td>\n",
       "      <td>1</td>\n",
       "    </tr>\n",
       "    <tr>\n",
       "      <th>3</th>\n",
       "      <td>1</td>\n",
       "      <td>1</td>\n",
       "    </tr>\n",
       "    <tr>\n",
       "      <th>4</th>\n",
       "      <td>1</td>\n",
       "      <td>0</td>\n",
       "    </tr>\n",
       "  </tbody>\n",
       "</table>\n",
       "</div>"
      ],
      "text/plain": [
       "   predicted  Actual\n",
       "0          0       0\n",
       "1          0       0\n",
       "2          1       1\n",
       "3          1       1\n",
       "4          1       0"
      ]
     },
     "execution_count": 79,
     "metadata": {},
     "output_type": "execute_result"
    }
   ],
   "source": [
    "dd=pd.DataFrame(pred,columns=['predicted'])\n",
    "dd['Actual']=y_test.values\n",
    "dd.head()"
   ]
  },
  {
   "cell_type": "markdown",
   "id": "8dae1178",
   "metadata": {},
   "source": [
    "---------------Error Calculation-------------\n"
   ]
  },
  {
   "cell_type": "code",
   "execution_count": 97,
   "id": "561cb615",
   "metadata": {},
   "outputs": [
    {
     "name": "stdout",
     "output_type": "stream",
     "text": [
      "Model: KNN Regression\n",
      "The accuracy of the model is: 0.85\n",
      "The confusion matrix is : [[39  9]\n",
      " [ 3 29]]\n",
      "The confusion matrix is :\n",
      "               precision    recall  f1-score   support\n",
      "\n",
      "           0       0.93      0.81      0.87        48\n",
      "           1       0.76      0.91      0.83        32\n",
      "\n",
      "    accuracy                           0.85        80\n",
      "   macro avg       0.85      0.86      0.85        80\n",
      "weighted avg       0.86      0.85      0.85        80\n",
      "\n"
     ]
    }
   ],
   "source": [
    "from sklearn.metrics import accuracy_score,confusion_matrix,classification_report\n",
    "\n",
    "print('Model: KNN Regression')\n",
    "\n",
    "print('The accuracy of the model is:',accuracy_score(dd['Actual'],dd['predicted']))\n",
    "print('The confusion matrix is :',confusion_matrix(dd['Actual'],dd['predicted']))\n",
    "print('The confusion matrix is :\\n',classification_report(dd['Actual'],dd['predicted']))\n",
    "      \n"
   ]
  },
  {
   "cell_type": "code",
   "execution_count": 83,
   "id": "503ee467",
   "metadata": {},
   "outputs": [
    {
     "data": {
      "text/plain": [
       "<AxesSubplot:>"
      ]
     },
     "execution_count": 83,
     "metadata": {},
     "output_type": "execute_result"
    },
    {
     "data": {
      "image/png": "[encoded data removed]",
      "text/plain": [
       "<Figure size 432x288 with 2 Axes>"
      ]
     },
     "metadata": {
      "needs_background": "light"
     },
     "output_type": "display_data"
    }
   ],
   "source": [
    "sns.heatmap(confusion_matrix(y_test,pred), annot=True)"
   ]
  },
  {
   "cell_type": "markdown",
   "id": "144398d2",
   "metadata": {},
   "source": [
    "----------------Choosing a K value--------------"
   ]
  },
  {
   "cell_type": "code",
   "execution_count": 85,
   "id": "d1d019c2",
   "metadata": {},
   "outputs": [],
   "source": [
    "error=[]\n",
    "for i in range(1,31):     ## considering k values from 1 to 30\n",
    "    clf=KNeighborsClassifier(n_neighbors=i)\n",
    "    clf.fit(x_train,y_train)\n",
    "    predict_i=clf.predict(x_test)\n",
    "    error.append(1-accuracy_score(y_test,predict_i))   ## 1-accuracy is error"
   ]
  },
  {
   "cell_type": "code",
   "execution_count": 86,
   "id": "b77aea9a",
   "metadata": {},
   "outputs": [
    {
     "data": {
      "text/plain": [
       "[0.16249999999999998,\n",
       " 0.16249999999999998,\n",
       " 0.15000000000000002,\n",
       " 0.15000000000000002,\n",
       " 0.15000000000000002,\n",
       " 0.13749999999999996,\n",
       " 0.13749999999999996,\n",
       " 0.125,\n",
       " 0.125,\n",
       " 0.125,\n",
       " 0.125,\n",
       " 0.125,\n",
       " 0.125,\n",
       " 0.125,\n",
       " 0.125,\n",
       " 0.11250000000000004,\n",
       " 0.11250000000000004,\n",
       " 0.11250000000000004,\n",
       " 0.11250000000000004,\n",
       " 0.09999999999999998,\n",
       " 0.09999999999999998,\n",
       " 0.11250000000000004,\n",
       " 0.11250000000000004,\n",
       " 0.11250000000000004,\n",
       " 0.11250000000000004,\n",
       " 0.125,\n",
       " 0.125,\n",
       " 0.125,\n",
       " 0.13749999999999996,\n",
       " 0.125]"
      ]
     },
     "execution_count": 86,
     "metadata": {},
     "output_type": "execute_result"
    }
   ],
   "source": [
    "error"
   ]
  },
  {
   "cell_type": "code",
   "execution_count": 122,
   "id": "f335b7d4",
   "metadata": {},
   "outputs": [
    {
     "name": "stderr",
     "output_type": "stream",
     "text": [
      "C:\\Users\\Shipra Choudhary\\AppData\\Local\\Temp\\ipykernel_8852\\1365432693.py:5: MatplotlibDeprecationWarning: savefig() got unexpected keyword argument \"bb_box\" which is no longer supported as of 3.3 and will become an error in 3.6\n",
      "  plt.savefig('Error-K value plot.jpg', bb_box='tight', dpi=200)\n"
     ]
    },
    {
     "data": {
      "image/png": "[encoded data removed]",
      "text/plain": [
       "<Figure size 432x288 with 1 Axes>"
      ]
     },
     "metadata": {
      "needs_background": "light"
     },
     "output_type": "display_data"
    }
   ],
   "source": [
    "# plotting error for different k values\n",
    "plt.plot(range(1,31),error)\n",
    "plt.xlabel('K value')\n",
    "plt.ylabel('Error')\n",
    "plt.savefig('Error-K value plot.jpg', bb_box='tight', dpi=200)"
   ]
  },
  {
   "cell_type": "markdown",
   "id": "a96b4c72",
   "metadata": {},
   "source": [
    "Here, for k=20 the error is least so, we will substitute this k value in the model "
   ]
  },
  {
   "cell_type": "code",
   "execution_count": 143,
   "id": "448d3221",
   "metadata": {},
   "outputs": [],
   "source": [
    "clf_new=KNeighborsClassifier(n_neighbors=20)"
   ]
  },
  {
   "cell_type": "code",
   "execution_count": 144,
   "id": "c583d61e",
   "metadata": {},
   "outputs": [],
   "source": [
    "clf_new_fit=clf_new.fit(x_train,y_train)\n",
    "pred_new=clf_new_fit.predict(x_test)"
   ]
  },
  {
   "cell_type": "code",
   "execution_count": 145,
   "id": "09a28672",
   "metadata": {},
   "outputs": [
    {
     "name": "stdout",
     "output_type": "stream",
     "text": [
      "Model: KNN Regression\n",
      "The accuracy of the model is: 0.9\n",
      "The confusion matrix is : [[42  2]\n",
      " [ 6 30]]\n",
      "The confusion matrix is :\n",
      "               precision    recall  f1-score   support\n",
      "\n",
      "           0       0.88      0.95      0.91        44\n",
      "           1       0.94      0.83      0.88        36\n",
      "\n",
      "    accuracy                           0.90        80\n",
      "   macro avg       0.91      0.89      0.90        80\n",
      "weighted avg       0.90      0.90      0.90        80\n",
      "\n"
     ]
    }
   ],
   "source": [
    "print('Model: KNN Regression')\n",
    "print('The accuracy of the model is:',accuracy_score(pred_new,y_test))\n",
    "print('The confusion matrix is :',confusion_matrix(pred_new,y_test))\n",
    "print('The confusion matrix is :\\n',classification_report(pred_new,y_test))\n",
    "      "
   ]
  },
  {
   "cell_type": "markdown",
   "id": "cfa51f6e",
   "metadata": {},
   "source": [
    "The accuracy score is improved much on choosing k value 20"
   ]
  },
  {
   "cell_type": "markdown",
   "id": "d214ecbb",
   "metadata": {},
   "source": [
    "------------Saving the model-------------"
   ]
  },
  {
   "cell_type": "code",
   "execution_count": 99,
   "id": "1dba4784",
   "metadata": {},
   "outputs": [],
   "source": [
    "import joblib"
   ]
  },
  {
   "cell_type": "code",
   "execution_count": 101,
   "id": "587a1da9",
   "metadata": {},
   "outputs": [],
   "source": [
    "file_name='iphone_prj5.sav'"
   ]
  },
  {
   "cell_type": "code",
   "execution_count": 103,
   "id": "d552fb86",
   "metadata": {},
   "outputs": [
    {
     "data": {
      "text/plain": [
       "['iphone_prj5.sav']"
      ]
     },
     "execution_count": 103,
     "metadata": {},
     "output_type": "execute_result"
    }
   ],
   "source": [
    "joblib.dump(clf_new_fit,file_name)"
   ]
  },
  {
   "cell_type": "code",
   "execution_count": null,
   "id": "d46ef0c1",
   "metadata": {},
   "outputs": [],
   "source": []
  }
 ],
 "metadata": {
  "kernelspec": {
   "display_name": "Python 3 (ipykernel)",
   "language": "python",
   "name": "python3"
  },
  "language_info": {
   "codemirror_mode": {
    "name": "ipython",
    "version": 3
   },
   "file_extension": ".py",
   "mimetype": "text/x-python",
   "name": "python",
   "nbconvert_exporter": "python",
   "pygments_lexer": "ipython3",
   "version": "3.9.12"
  }
 },
 "nbformat": 4,
 "nbformat_minor": 5
}
